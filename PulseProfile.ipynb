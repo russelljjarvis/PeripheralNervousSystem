{
 "cells": [
  {
   "cell_type": "code",
   "execution_count": 1,
   "metadata": {},
   "outputs": [],
   "source": [
    "#!/usr/bin/python\n",
    "import math\n",
    "from math import * \n",
    "from numpy import *\n",
    "import numpy as np\n",
    "import matplotlib.pyplot as plt\n",
    "\n",
    "from scipy import sqrt\n",
    "from numba import jit\n",
    "from array import *\n",
    "\n",
    "def f(c0,c1,c2,ca):\n",
    "        y=-1/2*(1+np.tanh(2*(ca-c0)))+np.tanh(2*(ca-c1))-np.tanh(2*(ca-c2))\n",
    "        return y\n",
    "\n",
    "def NAN(m,n):\n",
    "    A=np.empty((m,n))\n",
    "    A[:]=np.nan\n",
    "    return A\n",
    "\n",
    "def size(A):\n",
    "    m=len(A)\n",
    "    n=len(A[0,:])\n",
    "    return [m,n]\n",
    "\n",
    "    \n"
   ]
  },
  {
   "cell_type": "code",
   "execution_count": 2,
   "metadata": {},
   "outputs": [],
   "source": [
    "class Pulse:\n",
    "    def __init__(self, PW, PA):\n",
    "        self.PW=PW\n",
    "        self.PA=PA\n",
    "\n",
    "\n",
    "class Source:\n",
    "    def __init__(self, Res, Cap, shape):\n",
    "        self.Res=Res\n",
    "        self.Cap=Cap\n",
    "        self.shape=shape\n",
    "        \n",
    "        \n",
    "class Axon:\n",
    "     def __init__(self, dist,diam): \n",
    "            self.dist=dist\n",
    "            self.diam=diam\n",
    "\n"
   ]
  },
  {
   "cell_type": "code",
   "execution_count": 3,
   "metadata": {},
   "outputs": [
    {
     "data": {
      "text/plain": [
       "0.13764865102778580806"
      ]
     },
     "execution_count": 3,
     "metadata": {},
     "output_type": "execute_result"
    },
    {
     "data": {
      "image/png": "[encoded data removed]",
      "text/plain": [
       "<Figure size 432x288 with 1 Axes>"
      ]
     },
     "metadata": {},
     "output_type": "display_data"
    }
   ],
   "source": [
    "def PulseProfile_RC(pulse, source, Neuron_dt, Total_Rec):\n",
    "    \n",
    "    #Generates potential patern induced by the source\n",
    "    \n",
    "    num = round(Total_Rec/Neuron_dt)\n",
    "    num1 = 1\n",
    "    tmin = 0\n",
    "    tmax = (Neuron_dt/1000)*num  #seconds\n",
    "    \n",
    "    t = linspace(tmin,tmax,num)\n",
    "    #print(t)\n",
    "    R=source.Res\n",
    "    C=source.Cap\n",
    "    tau=R*C\n",
    "    dt=t[1]-t[0]\n",
    "    #print(tau)\n",
    "    \n",
    "    num2 =round(pulse.PW/dt/1000)\n",
    "    num2 = int(num2)\n",
    "\n",
    "    \n",
    "    V=np.float128(np.zeros(num))\n",
    "    V[0:num2]=pulse.PA*R*(1-np.exp(-t[0:num2]/tau))\n",
    "    V[num2:num]=pulse.PA*R*np.exp(-t[num2:num]/tau)*(np.exp(pulse.PW/tau/1000)-1)\n",
    "    \n",
    "    #print(t[0:num2])\n",
    "    return t*1000, V/max(V)\n",
    "\n",
    "def PulseProfile_SQ(pulse, source, Neuron_dt, Total_Rec):\n",
    "    \n",
    "    #Generates potential patern induced by the source\n",
    "    \n",
    "    num = round(Total_Rec/Neuron_dt)\n",
    "    num1 = 1\n",
    "    tmin = 0\n",
    "    tmax = (Neuron_dt/1000)*num  #seconds\n",
    "    \n",
    "    t = linspace(tmin,tmax,num)\n",
    "    #print(t)\n",
    "    R=source.Res\n",
    "    C=source.Cap\n",
    "    tau=R*C\n",
    "    dt=t[1]-t[0]\n",
    "    #print(tau)\n",
    "    \n",
    "    num2 =round(pulse.PW/dt/1000)\n",
    "    num2 = int(num2)\n",
    "\n",
    "    \n",
    "    V=np.zeros(num)\n",
    "    V[0:num2]=1\n",
    "    V[num2:num]=0\n",
    "    \n",
    "    #print(t[0:num2])\n",
    "    return t*1000, V/max(V)\n",
    "Res = 20e3\n",
    "Cap = 5e-9\n",
    "Neuron_dt=0.005\n",
    "\n",
    "PW=0.1\n",
    "PA=9.0e-06\n",
    "pulse=Pulse(PW,PA)\n",
    "source=Source(Res,Cap,'SQ')\n",
    "Total_Rec=3*pulse.PW\n",
    "\n",
    "t,v=PulseProfile_RC(pulse, source, Neuron_dt, Total_Rec)\n",
    "plt.plot(t,v)\n",
    "v[-1]"
   ]
  },
  {
   "cell_type": "code",
   "execution_count": 4,
   "metadata": {},
   "outputs": [],
   "source": [
    "def vectrorProduct(vv,ve):\n",
    "    v_stim=np.zeros([len(vv),len(ve)])\n",
    "\n",
    "    for i in range(len(vv)):\n",
    "        for j in range(len(ve)):\n",
    "            v_stim[i,j]=vv[i]*ve[j]\n",
    "        \n",
    "    return v_stim\n",
    "\n",
    "def Find(w,item):\n",
    "    r=[]\n",
    "    for i in range(len(w)):\n",
    "        if w[i]==item:\n",
    "            r.append(i)\n",
    "            \n",
    "    return r\n",
    "    \n",
    "        "
   ]
  },
  {
   "cell_type": "code",
   "execution_count": 5,
   "metadata": {},
   "outputs": [],
   "source": [
    "def sensoryLIFE(pulse, source ,axon):\n",
    "#%% Adaptive Neural Systems Laboratory (2019)\n",
    "#%  Enhanced Surface Electrical Neurostimulation (eSENS)\n",
    "#%  Simulations and Human Subject Studies, PhD Project by Andres E Pena\n",
    "#%%%%%%%%%%%%%%%%%%%%%%%%%%%%%%%%%%%%%%%%%%%%%%%%%%%%%%%%%%%%%%%%%%%%%%%%%%%%%%%%%%\n",
    "#% Modified script based on Gaines 2018 model for TES\n",
    "#%%%%%%%%%%%%%%%%%%%%%%%%%%%%%%%%%%%%%%%%%%%%%%%%%%%%%%%%%%%%%%%%%%%%%%%%%%%%%%%%%%\n",
    "#% This script generates the NEURON extracellular voltage profiles\n",
    "#% along the length of a sensory axon over a given time.\n",
    "#% This was originally used in a full arm model of surface\n",
    "#% electrical stimulation (Gaines 2018), and in that case very long axons\n",
    "#% were needed. Neuron checks for an action potential in one node.\n",
    "#% The start time of the stimulus is variable in Neuron.\n",
    "#% This is because there is a small depolarization that happens upon\n",
    "#% initialization of the model and this delay allows the membrane potential\n",
    "#% to stabilize.\n",
    "#%%%%%%%%%%%%%%%%%%%%%%%%%%%%%%%%%%%%%%%%%%%%%%%%%%%%%%%%%%%%%%%%%%%%%%%%%%%%%%%%%%%\n",
    "#% This function is released to be used in NEURON simulations (MATLAB based profile)\n",
    "#% Version: ANS-eSENS-01.03 (Andres Pena 08/02/2019)\n",
    "#%%%%%%%%%%%%%%%%%%%%%%%%%%%%%%%%%%%%%%%%%%%%%%%%%%%%%%%%%%%%%%%%%%%%%%%%%%%%%%%%%%%\n",
    "#%%%%%%%%%%%%%%%%%%%%%%%%%%%%%%%%%%%%%%%%%%%%%%%%%%%%%%%%%%%%%%%%%%%%%%%%%%%%%%%%%%%\n",
    "\n",
    "#%% LOCAL SETUP / PARAMETERS / FLAGS\n",
    "#% This sections contains main parameters relevant to this function\n",
    "\n",
    "\n",
    "    NEURON_Path = '/Users/mortezarouhani/Documents/PulseProfile_app2/Sensory_Model';\n",
    "\n",
    "\n",
    "    #%% Characteristics of the stimmulation source(s)\n",
    "    I=-pulse.PA/1000    #Injected current in mA\n",
    "    # Location of each source\n",
    "    # Source A (Representing Voice 1 in stimulator)\n",
    "\n",
    "\n",
    "    Ay=axon.dist      #micrometers perpendicular distance of the point source from the center of the axon.\n",
    "    Az=0              #z offset. In micrometers, distance to offset the stimulus along the axon. Default is centered over the center node.\n",
    "    Ax=1              #Could do an offset in the x direction\n",
    "    \n",
    "   \n",
    "    \n",
    "    PShape = source.shape  # RC or SQ\n",
    "    Res = source.Res\n",
    "    Cap = source.Cap\n",
    "    \n",
    "    # Characteristics of the simulated sensory fiber\n",
    "    number_nodes=21     #Odd number is best\n",
    "    fiberD=axon.diam    #um\n",
    "    \n",
    "\n",
    "\n",
    "    # Select where the AP will be \"recorded\"\n",
    "    # To select Custom Node(0), Specify the node in CustomNode variable\n",
    "    Where2Check = 1   # Start(1), Middle(2), or End(3) of the sensory fiber\n",
    "    CustomNode = 10   # This is the node where the voltage will be checked for an action potential in NEURON.\n",
    "    dt = 0.005        # in ms this is set in NEURON\n",
    "\n",
    "    # These are in um (micrometers)\n",
    "    n=1                              # node width\n",
    "    m=3                              # mysa width\n",
    "    f=(2.5811*fiberD)+19.59\n",
    "    deltax=969.3*log(fiberD)-1144.6  #Distance between nodes\n",
    "    s=(deltax-n-(2*m)-(2*f))/6       #stin width\n",
    "\n",
    "    widths=[n, m, f, s, s, s, s, s, s, f, m]\n",
    "\n",
    "    if number_nodes%2 == 0 :\n",
    "    #number is even\n",
    "        w=np.tile(widths,(number_nodes))\n",
    "    #w=cat(2,w,widths(1:6));\n",
    "    else:\n",
    "    #number is odd\n",
    "        w=np.tile(widths,(number_nodes-1)) \n",
    "        w=np.append(w,[1])\n",
    "    #print(len(w))\n",
    "    centers=w/2 #middle of each segement ex. middle of each node, middle of each mysa...\n",
    "    z=[]\n",
    "\n",
    "    for b in range(len(w)):\n",
    "        z=np.append(z,[centers[b]+np.sum(w[0:b])-centers[0]]) #um z=transvers distance up and down the arm from the point source to the position on the axon\n",
    "    #print(len(z))\n",
    "    cond_long=1/(3e6)  #ohm*um longitudinal conductivity\n",
    "    cond_trans=1/(1.2e7) #ohm*um transverse conductivity\n",
    "    #?????????????????? OR Simens/um\n",
    "    #the uniform media:\n",
    "    #cond_long=cond_trans;\n",
    "\n",
    "    # A\n",
    "    #Calculates voltage along nerve at the center of each segment (z)\n",
    "\n",
    "    #Ve_A=I./(4*pi*sqrt((Ax.^2*cond_long*cond_trans)'+(Ay.^2*cond_long*cond_trans)'+(z.^2*cond_trans^2)'))';  %voltage in mV\n",
    "\n",
    "\n",
    "    Ve = zeros(len(w))\n",
    "    Ve = I/(4*pi*sqrt(Ax*Ax*cond_long*cond_trans+Ay*Ay*cond_long*cond_trans+np.multiply(z,z)*cond_trans**2))\n",
    "    #print(Ve)\n",
    "    #voltage of A in mV\n",
    "    #Ve(2,:) = I./(4*pi*sqrt((Bx.^2*cond_long*cond_trans)'+(By.^2*cond_long*cond_trans)'+(z.^2*cond_trans^2)'))';  %voltage of B in mV\n",
    "\n",
    "\n",
    "\n",
    "        \n",
    "    # PlotFlag = 'plot';\n",
    "    PlotFlag = 'noplot'\n",
    "    RC_vals = [Res, Cap]\n",
    "    RC_Tau_ms = 1000*Res*Cap\n",
    "        \n",
    "        \n",
    "    EV_Duration = 2*pulse.PW+RC_Tau_ms    # in ms, Duration of the extracellular potential recording from COMSOL\n",
    "        \n",
    "    ProfileDur = round(EV_Duration/dt)\n",
    "    #print(ProfileDur)\n",
    "        \n",
    "    TT = zeros(ProfileDur) \n",
    "    VV = zeros(ProfileDur)\n",
    "\n",
    "    if PShape=='SQ':\n",
    "        TT,VV = PulseProfile_SQ(pulse, source, dt, EV_Duration)\n",
    "    else:\n",
    "        TT,VV = PulseProfile_RC(pulse, source, dt, EV_Duration)   \n",
    "        \n",
    "\n",
    "    Fdist = z #Distance vector to simulate (um)\n",
    "    Simulated_V = zeros([len(Fdist),len(TT)+1])\n",
    "        \n",
    "        #         VV_Sim = VV'.*Simulated_V(:,2);\n",
    "        \n",
    "    VV_Sim = vectrorProduct(VV,Ve)\n",
    "    #print(size(VV_Sim))\n",
    "    V_left= fliplr(VV_Sim)\n",
    "    VVV=np.delete(VV_Sim,0,1)\n",
    "    #print(size(VVV))\n",
    "    V_final=np.concatenate((V_left,np.delete(VV_Sim,0,1)), axis=1)\n",
    "    #print(size(V_left))\n",
    "   # w_left=w[::-1]\n",
    "    #w_final=np.concatenate((w_left,w[1:len(w)]),axis=0)\n",
    "    w_final=w\n",
    "\n",
    "    nodes=Find(w_final,n)\n",
    "    mysas=Find(w_final,m)\n",
    "    fluts=Find(w_final,f)\n",
    "    stins=Find(w_final,s)\n",
    "    \n",
    "    v_nodes=V_final[:,nodes]\n",
    "    v_mysas=V_final[:,mysas]\n",
    "    v_fluts=V_final[:,fluts]\n",
    "    v_stins=V_final[:,stins]\n",
    "    \n",
    "    \n",
    "    return w_final,V_final,v_nodes, v_mysas,v_fluts, v_stins\n",
    "\n",
    "      \n"
   ]
  },
  {
   "cell_type": "code",
   "execution_count": 6,
   "metadata": {},
   "outputs": [
    {
     "data": {
      "text/plain": [
       "array([3. , 3. , 3. , 3. , 3. , 3. , 3. , 3. , 3.5, 3.5, 3.5, 3.5, 3.5,\n",
       "       3.5, 3.5, 4. , 4. , 4. , 4. , 4. , 4. , 4. , 4. , 4.5, 4.5, 4.5,\n",
       "       4.5, 4.5, 4.5, 4.5, 4.5, 4.5, 4.5, 4.5, 4.5, 4.5, 4.5, 5. , 5. ,\n",
       "       5. , 5. , 5. , 5. , 5. , 5. , 5. , 5. , 5. , 5. , 5. , 5. , 5. ,\n",
       "       5. , 5. , 5. , 5. , 5. , 5. , 5. , 5.5, 5.5, 5.5, 5.5, 5.5, 5.5,\n",
       "       5.5, 5.5, 5.5, 5.5, 5.5, 5.5, 5.5, 5.5, 5.5, 5.5, 5.5, 5.5, 5.5,\n",
       "       5.5, 5.5, 5.5, 5.5, 5.5, 5.5, 5.5, 5.5, 6. , 6. , 6. , 6. , 6. ,\n",
       "       6. , 6. , 6. , 6. , 6. , 6. , 6. , 6. , 6. , 6. , 6. , 6. , 6. ,\n",
       "       6. , 6. , 6. , 6. , 6. , 6. , 6. , 6. , 6. , 6. , 6. , 6.5, 6.5,\n",
       "       6.5, 6.5, 6.5, 6.5, 6.5, 6.5, 6.5, 6.5, 7. , 7. , 7. , 7. , 7. ,\n",
       "       7.5, 7.5, 7.5, 7.5])"
      ]
     },
     "execution_count": 6,
     "metadata": {},
     "output_type": "execute_result"
    }
   ],
   "source": [
    "\n",
    "diam=range(6,16,1)\n",
    "\n",
    "hist=np.array([6.1,5.1,6.1,10.2,16.3,20.4,21.4,7.2,4.1,3.1])\n",
    "\n",
    "\n",
    "fiberNum=134\n",
    "radii=np.zeros(fiberNum)\n",
    "trgt1=np.round(fiberNum/100*hist)\n",
    "trgt=trgt1.astype(int)\n",
    "k=0\n",
    "for i in range(len(diam)): \n",
    "     for j in range(trgt[i]):\n",
    "        radii[k]=diam[i]/2\n",
    "        k=k+1\n",
    "\n",
    "k=0\n",
    "radii"
   ]
  },
  {
   "cell_type": "code",
   "execution_count": 7,
   "metadata": {},
   "outputs": [
    {
     "name": "stdout",
     "output_type": "stream",
     "text": [
      "[134.]\n"
     ]
    }
   ],
   "source": [
    "from pprint import pprint as pp\n",
    "from astropy.io import ascii\n",
    "import os\n",
    "s=''\n",
    "import circlify as circ\n",
    "circles = circ.circlify(list(radii+0.25), show_enclosure=True)\n",
    "for i in range(len(radii)):\n",
    "    s=s+str(circles[i])\n",
    "s=s.replace('Circle(','')\n",
    "s=s.replace('ex=None)','')\n",
    "s=s.replace('y=','')\n",
    "s=s.replace('x=','')\n",
    "s=s.replace('r=','')\n",
    "s=s.replace('level=0,','')\n",
    "s=s.replace('level=1,','')\n",
    "s=s.replace(' ','')\n",
    "ss=s[0:len(s)-1]\n",
    "#s=s.replace(',','')\n",
    "x=np.zeros(fiberNum)\n",
    "y=np.zeros(fiberNum)\n",
    "r=np.zeros(fiberNum)\n",
    "circles=np.zeros((fiberNum,3))\n",
    "fiberNumbr=np.zeros(1) #np.empty([2,1],dtype=int)\n",
    "fiberNumbr[0]=str(int(fiberNum))\n",
    "print((fiberNumbr))\n",
    "p=0\n",
    "j=0\n",
    "for k in ss.split(','):\n",
    "    circles[p//3][p%3]=float(k)\n",
    "    p=p+1\n",
    "q=radii[-1]/circles[fiberNum-1][2]\n",
    "\n",
    "crcl = NAN(fiberNum,5)\n",
    "\n",
    "FBNUM=np.array([fiberNum])\n",
    "\n",
    "crcl[1:fiberNum,2:5]=q*circles[1:fiberNum,:]\n",
    "crcl[0,0]=fiberNum-1\n",
    "crcl[0,1]=3\n",
    "\n",
    "#os.chdir('Sensory_Model')   \n",
    "#np.savetxt('circles.dat', q*circles  , delimiter=' ',newline=' \\n  NaN  NaN',encoding='str')\n",
    "#np.savetxt('fiberNum.dat', fiberNumbr)\n",
    "ascii.write(crcl,'circles.dat',overwrite=True)\n",
    "ascii.write(FBNUM,'fiberNum.dat',overwrite=True)"
   ]
  },
  {
   "cell_type": "code",
   "execution_count": 8,
   "metadata": {},
   "outputs": [
    {
     "name": "stderr",
     "output_type": "stream",
     "text": [
      "/anaconda3/lib/python3.6/site-packages/ipykernel_launcher.py:15: MatplotlibDeprecationWarning: pyplot.hold is deprecated.\n",
      "    Future behavior will be consistent with the long-time default:\n",
      "    plot commands add elements without first clearing the\n",
      "    Axes and/or Figure.\n",
      "  from ipykernel import kernelapp as app\n",
      "/anaconda3/lib/python3.6/site-packages/matplotlib/__init__.py:911: MatplotlibDeprecationWarning: axes.hold is deprecated. Please remove it from your matplotlibrc and/or style files.\n",
      "  mplDeprecation)\n",
      "/anaconda3/lib/python3.6/site-packages/matplotlib/rcsetup.py:156: MatplotlibDeprecationWarning: axes.hold is deprecated, will be removed in 3.0\n",
      "  mplDeprecation)\n"
     ]
    },
    {
     "data": {
      "image/png": "[encoded data removed]",
      "text/plain": [
       "<Figure size 432x288 with 1 Axes>"
      ]
     },
     "metadata": {},
     "output_type": "display_data"
    }
   ],
   "source": [
    "import matplotlib.pyplot as plt\n",
    "\n",
    "def create_circle(x,y,r):\n",
    "\tcircle= plt.Circle((x,y), radius= r)\n",
    "\treturn circle\n",
    "\n",
    "def show_shape(patch):\n",
    "\tax=plt.gca()\n",
    "\tax.add_patch(patch)\n",
    "\tplt.axis('scaled')\n",
    "\t#plt.show()\n",
    "\n",
    "for i in range(fiberNum):\n",
    "    show_shape(create_circle(circles[i][0],circles[i][1],circles[i][2]))\n",
    "    plt.hold(True)\n",
    "plt.show()"
   ]
  },
  {
   "cell_type": "code",
   "execution_count": 9,
   "metadata": {},
   "outputs": [],
   "source": [
    "Res = 20e3\n",
    "Cap = 5e-9\n",
    "Neuron_dt=0.005\n",
    "\n",
    "PW=0.1\n",
    "PA=40\n",
    "pulse=Pulse(PW,PA)\n",
    "source=Source(Res,Cap,'SQ')\n",
    "Total_Rec=3*pulse.PW\n",
    "fiberD=10\n",
    "distance=100\n",
    "axon=Axon(distance,fiberD)\n",
    "w,V,n,m,f,s=sensoryLIFE(pulse, source ,axon)\n",
    "#np.savetxt('nodesTest.dat', n, delimiter=' ',newline='   NAN  NAN  \\n')"
   ]
  },
  {
   "cell_type": "code",
   "execution_count": 10,
   "metadata": {},
   "outputs": [
    {
     "name": "stdout",
     "output_type": "stream",
     "text": [
      "134 21 134 40 134 40\n"
     ]
    }
   ],
   "source": [
    "from neuron import h, gui\n",
    "# Model Globals\n",
    "\n",
    "axonnodes=21\n",
    "celsius=37\t\t#degrees C#\t# Human body temperature\n",
    "v_init=-79.3565 #mV#          # starting voltage\n",
    "dt=0.005 #ms#                  # time step\n",
    "tstop=25 #ms#                # time at which simulation terminates\n",
    "\t#node_volt #mV#                # voltage profile in the node from MAXWELL\n",
    "\t#mysa_volt #mV#                # voltage profile in the mysa from MAXWELL\n",
    "\t#flut_volt #mV#                # voltage profile in the flut from MAXWELL\n",
    "\t#stin_volt #mV#                # voltage profile in the stin from MAXWELL\n",
    "\t#fiberDiam  #um#                # Diameter of the axon fiber\n",
    "    #\tnum_nodes                       # Number of nodes modeled\n",
    "\n",
    "\n",
    "#Extracellular stimuluation parameters#\n",
    "delay=15 #ms           # time before the stimulation is applied\n",
    "pw=.5\t#ms            # pulse width, the duration of the stimulation\n",
    "\n",
    "#topological parameters#\n",
    "paranodes1=(axonnodes-1)*2#156_40_156 (nodes-1)*2      # number of mysa segments in the axon model\n",
    "paranodes2=(axonnodes-1)*2#156_40_156 (nodes-1)*2      # number of flut segments in the axon model\n",
    "axoninter=(axonnodes-1)*6#468_120_468                  # number of stin segments in the axon model\n",
    "axontotal=axonnodes+paranodes1+paranodes2+axoninter     # total number of segments in the axon model\n",
    "\n",
    "#morphological parameters#\n",
    "lm=3       # mysa length\n",
    "ln=1.0      # node length\n",
    "space_p1=0.002      # mysa periaxonal space width\n",
    "space_p2=0.004      # flut periaxonal space width\n",
    "space_i=0.004       # stin periaxonal space width\n",
    "\n",
    "#electrical parameters#\n",
    "rhoa=0.7e6 #Ohm-um#                       #axoplasmic resistivity\n",
    "mycm=0.1 #uF/cm2/lamella membrane#    # myelin capacitance\n",
    "mygm=0.001 #S/cm2/lamella membrane#   # myelin conductance\n",
    "\n",
    "# number of fibers\n",
    "\t#fiberNum=3\n",
    "#h(\"create(node[fiberNum][axonnodes],MYSA1[fiberNum][paranodes1],MYSA2[fiberNum][paranodes1]\")\n",
    "#h.create(FLUT1[fiberNum][paranodes2],FLUT2[fiberNum][paranodes2], STIN[fiberNum][axoninter])\n",
    "#print(dir(h))\n",
    "'''\n",
    "for k in range(fiberNum):\n",
    "\t\t\n",
    "\t\tfor i in range(axonnodes):\n",
    "\t\t\tfiberDiam[k]=centers[k][2]\n",
    "            \n",
    "\t\t\th.access node[k][i]\n",
    "\t\t\t\tnseg=1\n",
    "\t\t\t\t#diam=nodeD\n",
    "\t\t\t\t#L=ln\n",
    "\t\t\t\tpt3dadd(centers[k][0],centers[k][1],(k)*ltotal[k], nodeD[k])\n",
    "\t\t\t\tpt3dadd(centers[k][0],centers[k][1],(k)*ltotal[k]+ln, nodeD[k])\n",
    "\n",
    "\t\t\t\tRa=rhoa/10000\n",
    "\t\t\t\tcm=2\n",
    "\t\t\t\tinsert node_sensory       # mod file declaring nodal channel properties\n",
    "\t\t\t\txraxial=Rpn0[k] xg=1e10 xc=0\n",
    "\t\t\t\t\n",
    "\t\t\t\n",
    "#h.pt3dadd(0,0,5,20)\n",
    "#h.pt3dadd(0,0,100,10)\n",
    "#h.load_file('BlenderNEURON.hoc')\n",
    "'''\n",
    "\n",
    "print(fiberNum,axonnodes,fiberNum,paranodes1,fiberNum,paranodes1)\n",
    "\n",
    "#MYSA1[fiberNum][paranodes1]\n"
   ]
  },
  {
   "cell_type": "code",
   "execution_count": 38,
   "metadata": {},
   "outputs": [
    {
     "name": "stdout",
     "output_type": "stream",
     "text": [
      "True\n",
      "<class 'hoc.HocObject'>\n",
      "node[?]\n",
      "\t1 \n",
      "1 \n"
     ]
    },
    {
     "data": {
      "text/plain": [
       "[0, 1, 2, 3, 4, 5, 6, 7, 8]"
      ]
     },
     "execution_count": 38,
     "metadata": {},
     "output_type": "execute_result"
    }
   ],
   "source": [
    "fiberNum,axonnodes = (134,21)\n",
    "\n",
    "h(\"fiberNum =\"+str(fiberNum))\n",
    "h(\"axonnodes =\"+str(axonnodes))\n",
    "\n",
    "h.fiberNum\n",
    "h.axonnodes\n",
    "h(\"create node[fiberNum][axonnodes]\")\n",
    "print(\"node\" in dir(h.node))\n",
    "\n",
    "node = h.node\n",
    "print(type(node))\n",
    "\n",
    "print(node)\n",
    "#print(dir(node))\n",
    "\n",
    "\n",
    "import numpy as np\n",
    "h('nrnpython(\"a = [i for i in range(0,9)]\")')\n",
    "a"
   ]
  },
  {
   "cell_type": "code",
   "execution_count": 37,
   "metadata": {},
   "outputs": [
    {
     "name": "stdout",
     "output_type": "stream",
     "text": [
      "\t1 \n",
      "1 \n"
     ]
    },
    {
     "data": {
      "text/plain": [
       "[0, 1, 2, 3, 4, 5, 6, 7, 8]"
      ]
     },
     "execution_count": 37,
     "metadata": {},
     "output_type": "execute_result"
    }
   ],
   "source": []
  },
  {
   "cell_type": "code",
   "execution_count": null,
   "metadata": {},
   "outputs": [],
   "source": [
    "h(\"create(node[\"+str(fiberNum)+\"]\"+str(axonnodes)+"
   ]
  },
  {
   "cell_type": "code",
   "execution_count": null,
   "metadata": {},
   "outputs": [],
   "source": []
  },
  {
   "cell_type": "code",
   "execution_count": null,
   "metadata": {},
   "outputs": [],
   "source": [
    "from neuron import h, gui\n",
    "h.load_file('TES_Sensory_AP.hoc')\n"
   ]
  },
  {
   "cell_type": "code",
   "execution_count": null,
   "metadata": {},
   "outputs": [],
   "source": [
    "Fiber\n"
   ]
  },
  {
   "cell_type": "code",
   "execution_count": null,
   "metadata": {},
   "outputs": [],
   "source": [
    "result"
   ]
  },
  {
   "cell_type": "code",
   "execution_count": null,
   "metadata": {},
   "outputs": [],
   "source": [
    "a=([1,2,4,4,6,7])\n",
    "ar=np.array(a)\n",
    "ar+2\n"
   ]
  },
  {
   "cell_type": "code",
   "execution_count": null,
   "metadata": {},
   "outputs": [],
   "source": [
    "a[:,[1:3]]"
   ]
  },
  {
   "cell_type": "code",
   "execution_count": null,
   "metadata": {},
   "outputs": [],
   "source": [
    "a=np.array([])\n",
    "np.append(a,2)\n",
    "np.append(a,20)\n",
    "np.append(a,200)\n"
   ]
  },
  {
   "cell_type": "code",
   "execution_count": null,
   "metadata": {},
   "outputs": [],
   "source": [
    "f = open('cell.hoc', 'r')\n",
    "dta=f.read()\n"
   ]
  },
  {
   "cell_type": "code",
   "execution_count": null,
   "metadata": {},
   "outputs": [],
   "source": []
  },
  {
   "cell_type": "code",
   "execution_count": null,
   "metadata": {},
   "outputs": [],
   "source": [
    "acsii.write()\n",
    "\n",
    "x=np.zeros(1)"
   ]
  },
  {
   "cell_type": "code",
   "execution_count": null,
   "metadata": {},
   "outputs": [],
   "source": [
    "x[0]=4"
   ]
  },
  {
   "cell_type": "code",
   "execution_count": null,
   "metadata": {},
   "outputs": [],
   "source": [
    "x"
   ]
  },
  {
   "cell_type": "code",
   "execution_count": null,
   "metadata": {},
   "outputs": [],
   "source": []
  }
 ],
 "metadata": {
  "kernelspec": {
   "display_name": "Python 3",
   "language": "python",
   "name": "python3"
  },
  "language_info": {
   "codemirror_mode": {
    "name": "ipython",
    "version": 3
   },
   "file_extension": ".py",
   "mimetype": "text/x-python",
   "name": "python",
   "nbconvert_exporter": "python",
   "pygments_lexer": "ipython3",
   "version": "3.6.5"
  }
 },
 "nbformat": 4,
 "nbformat_minor": 2
}
