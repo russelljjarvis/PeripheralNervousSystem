{
 "cells": [
  {
   "cell_type": "code",
   "execution_count": 4,
   "metadata": {},
   "outputs": [
    {
     "name": "stdout",
     "output_type": "stream",
     "text": [
      "\n",
      "|-|       __nrnsec_0x29ad540(0-1)\n",
      "\n"
     ]
    },
    {
     "data": {
      "text/plain": [
       "1.0"
      ]
     },
     "execution_count": 4,
     "metadata": {},
     "output_type": "execute_result"
    }
   ],
   "source": [
    "from neuron import h # define sections\n",
    "import neuron\n",
    "from numpy import *\n",
    "import numpy as np\n",
    "import matplotlib.pyplot as plt\n",
    "from scipy import sqrt\n",
    "#from numba import jit\n",
    "from array import *\n",
    "#from neuron import h, gui\n",
    "import neuron\n",
    "#neuron.load_mechanisms('/Users/mortezarouhani/Documents/PulseProfile_app2/Sensory_Model')\n",
    "\n",
    "\n",
    "Axon=h.Section()\n",
    "\n",
    "Axon.insert('node_sensory')\n",
    "\n",
    "Axon.L=100\n",
    "Axon.diam=10\n",
    "\n",
    "\n",
    "\n",
    "t = h.Vector() \n",
    "v = h.Vector() \n",
    "t.record(h._ref_t)\n",
    "v.record(Axon(0.5)._ref_v)\n",
    "\n",
    "# simulation\n",
    "h.finitialize()\n",
    "#h.continuerun(49.5)\n",
    "#plt.plot(t, v)\n",
    "#plt.show()\n",
    "h.topology()\n",
    "\n",
    "\n",
    "#h.load_file('BlenderNEURON.hoc')"
   ]
  },
  {
   "cell_type": "code",
   "execution_count": 2,
   "metadata": {},
   "outputs": [
    {
     "ename": "ModuleNotFoundError",
     "evalue": "No module named 'PyPNS'",
     "output_type": "error",
     "traceback": [
      "\u001b[0;31m---------------------------------------------------------------------------\u001b[0m",
      "\u001b[0;31mModuleNotFoundError\u001b[0m                       Traceback (most recent call last)",
      "\u001b[0;32m<ipython-input-2-b16758b93d00>\u001b[0m in \u001b[0;36m<module>\u001b[0;34m\u001b[0m\n\u001b[0;32m----> 1\u001b[0;31m \u001b[0;32mfrom\u001b[0m \u001b[0mPyPNS\u001b[0m \u001b[0;32mimport\u001b[0m \u001b[0;34m*\u001b[0m\u001b[0;34m\u001b[0m\u001b[0;34m\u001b[0m\u001b[0m\n\u001b[0m",
      "\u001b[0;31mModuleNotFoundError\u001b[0m: No module named 'PyPNS'"
     ]
    }
   ],
   "source": [
    "from PyPNS import *"
   ]
  },
  {
   "cell_type": "code",
   "execution_count": null,
   "metadata": {},
   "outputs": [],
   "source": []
  },
  {
   "cell_type": "code",
   "execution_count": 3,
   "metadata": {},
   "outputs": [
    {
     "name": "stdout",
     "output_type": "stream",
     "text": [
      "NEURON mechanisms not found in /Users/mortezarouhani/Downloads/PyPNS-master/.\n"
     ]
    },
    {
     "data": {
      "text/plain": [
       "False"
      ]
     },
     "execution_count": 3,
     "metadata": {},
     "output_type": "execute_result"
    }
   ],
   "source": [
    "import neuron\n",
    "neuron.load_mechanisms('/Users/mortezarouhani/Downloads/PyPNS-master/')"
   ]
  },
  {
   "cell_type": "code",
   "execution_count": null,
   "metadata": {},
   "outputs": [],
   "source": []
  },
  {
   "cell_type": "code",
   "execution_count": null,
   "metadata": {},
   "outputs": [],
   "source": []
  }
 ],
 "metadata": {
  "kernelspec": {
   "display_name": "Python 3",
   "language": "python",
   "name": "python3"
  },
  "language_info": {
   "codemirror_mode": {
    "name": "ipython",
    "version": 3
   },
   "file_extension": ".py",
   "mimetype": "text/x-python",
   "name": "python",
   "nbconvert_exporter": "python",
   "pygments_lexer": "ipython3",
   "version": "3.6.9"
  }
 },
 "nbformat": 4,
 "nbformat_minor": 2
}
